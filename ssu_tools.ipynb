{
 "cells": [
  {
   "cell_type": "code",
   "execution_count": 8,
   "metadata": {},
   "outputs": [
    {
     "data": {
      "text/plain": [
       "True"
      ]
     },
     "execution_count": 8,
     "metadata": {},
     "output_type": "execute_result"
    }
   ],
   "source": [
    "import requests\n",
    "import re\n",
    "from common import *\n",
    "import pandas as pd\n",
    "from utils import *\n",
    "from Parallelizer import make_parallel\n",
    "from yaml.loader import SafeLoader\n",
    "import yaml\n",
    "import os\n",
    "from dotenv import load_dotenv\n",
    "load_dotenv()"
   ]
  },
  {
   "cell_type": "code",
   "execution_count": 3,
   "metadata": {},
   "outputs": [],
   "source": [
    "def get_info(username):\n",
    "    url = f\"https://tokapi-mobile-version.p.rapidapi.com/v1/user/{username}\"\n",
    "\n",
    "    headers = {\n",
    "        \"X-RapidAPI-Key\": os.getenv(\"RAPIDAPI_KEY\"),\n",
    "        \"X-RapidAPI-Host\": \"tokapi-mobile-version.p.rapidapi.com\"\n",
    "    }\n",
    "\n",
    "    response = requests.get(url, headers=headers)\n",
    "\n",
    "    return response.json()\n",
    "\n",
    "def get_posts(user_id):\n",
    "    url = f\"https://tokapi-mobile-version.p.rapidapi.com/v1/post/user/{user_id}/posts\"\n",
    "\n",
    "    querystring = {\"offset\":\"0\",\"count\":\"10\",\"region\":\"VN\",\"with_pinned_posts\":\"1\"}\n",
    "\n",
    "    headers = {\n",
    "        \"X-RapidAPI-Key\": os.getenv(\"RAPIDAPI_KEY\"),\n",
    "        \"X-RapidAPI-Host\": \"tokapi-mobile-version.p.rapidapi.com\"\n",
    "    }\n",
    "\n",
    "    response = requests.get(url, headers=headers, params=querystring)\n",
    "\n",
    "    return response.json()\n",
    "\n",
    "def url2username(url):\n",
    "    username = url.split(\"/\")[-1]\n",
    "    if \"MS4wLjA\" in username:\n",
    "        return username[1:]\n",
    "    else:\n",
    "        return username\n",
    "\n",
    "MAPPING_POST = {\n",
    "    \"share_url\": [\"share_url\"],\n",
    "    \"create_time\": [\"create_time\"],\n",
    "}\n",
    "@make_parallel\n",
    "def post_transform(post):\n",
    "    return Common.mapping_data(post, MAPPING_POST)\n",
    "\n",
    "\n",
    "MAPPING = {\n",
    "    \"username\": [\"user\",\"unique_id\"],\n",
    "    \"follower\": [\"user\",\"follower_count\"],\n",
    "    \"bio_url\": [\"user\",\"bio_url\"],\n",
    "    \"bio\": [\"user\",\"signature\"],\n",
    "    \"sec_uid\": [\"user\",\"sec_uid\"],\n",
    "    \"has_shop\": [\"user\",\"tab_settings\",\"shop_tab\",\"show_shop_tab\"],\n",
    "    \"uid\": [\"user\",\"uid\"],\n",
    "}"
   ]
  },
  {
   "cell_type": "code",
   "execution_count": 13,
   "metadata": {},
   "outputs": [],
   "source": [
    "os.environ[\"RAPIDAPI_KEY\"]=\"d1583bfe26msh53d8ca2e32d95c3p182a27jsn990cb23d366c\""
   ]
  },
  {
   "cell_type": "code",
   "execution_count": 4,
   "metadata": {},
   "outputs": [
    {
     "name": "stdout",
     "output_type": "stream",
     "text": [
      "Number of links: 3\n",
      "sample link: ['https://www.tiktok.com/@MS4wLjABAAAAx4dDiQg8yUeraJjUupXkTwSG1IVnD7L4zGM_bb5syBfOYI-FjQSCiNPsue9vE7eS', 'https://www.tiktok.com/@MS4wLjABAAAAMr-ECcuhYi8o84ZjvqMQjrqQxwlITZxq9qBH1xRnKx-d6ulgZsMbgF1v1KJzkkVs', 'https://www.tiktok.com/@MS4wLjABAAAADuLvyxgb54HqyCSek1-P_vD76mpS6YXRylwWa_KLa3mLiTX1p29dDtL1qyNm62tq']\n"
     ]
    }
   ],
   "source": [
    "links = input(\"Enter links: \")\n",
    "links = links.split(\" \")\n",
    "print(f\"Number of links: {len(links)}\")\n",
    "print(f\"sample link: {links[:3]}\")"
   ]
  },
  {
   "cell_type": "code",
   "execution_count": 15,
   "metadata": {},
   "outputs": [
    {
     "name": "stdout",
     "output_type": "stream",
     "text": [
      "'bio_url'\n",
      "'shop_tab'\n",
      "'bio_url'\n"
     ]
    }
   ],
   "source": [
    "results = []\n",
    "for link in links:\n",
    "    transformed = {\"url\": link}\n",
    "    username = url2username(link)\n",
    "    try:\n",
    "        info = get_info(username)\n",
    "        transformed_ = Common.mapping_data(info, MAPPING)\n",
    "        transformed.update(transformed_)\n",
    "        post_list = get_posts(transformed[\"uid\"])\n",
    "        try:\n",
    "            post_list = post_list[\"aweme_list\"]\n",
    "            post_list_transformed = post_transform(post_list)\n",
    "            latest_post = max(post_list_transformed, key=lambda x: x[\"create_time\"])\n",
    "            if latest_post:\n",
    "                minimal_url = latest_post[\"share_url\"].split(\"?\")[0]\n",
    "                transformed[\"latest_post\"] = minimal_url\n",
    "            results.append(transformed)\n",
    "        except Exception as e:\n",
    "            print(f\"Error getting posts for {username}: {e}\")\n",
    "            results.append(transformed | {\"error\": str(e)})\n",
    "    except Exception as e:\n",
    "        print(f\"Error getting info for {username}: {e}\")\n",
    "        results.append({\"username\": username, \"error\": str(e)})\n",
    "    df = pd.DataFrame(results)\n",
    "    df[\"follower\"] = df[\"follower\"].apply(lambda x: big_number_to_string_number(x))\n",
    "    # df[\"other_url\"] = df[\"bio\"].apply(lambda x: extract_url(x) if x else None)\n",
    "    # df[\"url\"] = df[\"username\"].apply(lambda x: f\"https://www.tiktok.com/@{x}\")\n",
    "    df[\"bio_url\"] = df[\"bio_url\"].apply(lambda x: x or \"\")\n",
    "    df[\"bio\"] = df[\"bio\"] + df[\"bio_url\"]\n",
    "    df[\"standard_url\"] = df[\"username\"].apply(lambda x: f\"https://www.tiktok.com/@{x}\")\n",
    "    cols = [\"url\",\"sec_uid\",\"latest_post\",\"follower\",\"has_shop\",\"bio\", \"standard_url\"]\n",
    "    try:\n",
    "        df = df[cols]\n",
    "    except Exception as e:\n",
    "        print(f\"Error selecting columns: {e}\")\n",
    "        \n",
    "df.to_csv(\"tiktok.csv\", index=False)"
   ]
  }
 ],
 "metadata": {
  "kernelspec": {
   "display_name": "Python 3",
   "language": "python",
   "name": "python3"
  },
  "language_info": {
   "codemirror_mode": {
    "name": "ipython",
    "version": 3
   },
   "file_extension": ".py",
   "mimetype": "text/x-python",
   "name": "python",
   "nbconvert_exporter": "python",
   "pygments_lexer": "ipython3",
   "version": "3.10.2"
  }
 },
 "nbformat": 4,
 "nbformat_minor": 2
}
